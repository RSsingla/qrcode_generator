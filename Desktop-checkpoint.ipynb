{
 "cells": [
  {
   "cell_type": "code",
   "execution_count": 1,
   "metadata": {},
   "outputs": [
    {
     "name": "stdout",
     "output_type": "stream",
     "text": [
      "QR code Generated\n"
     ]
    }
   ],
   "source": [
    "import pyqrcode\n",
    "\n",
    "def qrcode():\n",
    "    q=pyqrcode.create('YOUR QR CODE')\n",
    "    q.png('my.png',scale=6)\n",
    "    print(\"QR code Generated\")\n",
    "    \n",
    "if_name_=\"_main_\"\n",
    "qrcode()"
   ]
  }
 ],
 "metadata": {
  "kernelspec": {
   "display_name": "Python 3",
   "language": "python",
   "name": "python3"
  },
  "language_info": {
   "codemirror_mode": {
    "name": "ipython",
    "version": 3
   },
   "file_extension": ".py",
   "mimetype": "text/x-python",
   "name": "python",
   "nbconvert_exporter": "python",
   "pygments_lexer": "ipython3",
   "version": "3.6.8"
  }
 },
 "nbformat": 4,
 "nbformat_minor": 2
}
